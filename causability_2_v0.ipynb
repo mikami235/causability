{
 "cells": [
  {
   "cell_type": "code",
   "execution_count": 1,
   "metadata": {},
   "outputs": [],
   "source": [
    "from pgmpy.factors.discrete import TabularCPD\n",
    "from pgmpy.models import BayesianModel\n",
    "\n",
    "# ベイジアンネットワークの構造\n",
    "model = BayesianModel([\n",
    "    # ('親ノード', '子ノード')\n",
    "    ('battery', 'gauge'),\n",
    "    ('fuel', 'gauge'),\n",
    "])\n",
    "\n",
    "battery_cpd = TabularCPD(\n",
    "    variable='battery',\n",
    "    variable_card=2,\n",
    "    # values[0]: empty, values[1]: full\n",
    "    values=[[.1], [.9]])\n",
    "\n",
    "fuel_cpd = TabularCPD(\n",
    "    variable='fuel',\n",
    "    variable_card=2,\n",
    "    values=[[.1], [.9]])\n",
    "\n",
    "gauge_cpd = TabularCPD(\n",
    "    variable='gauge',\n",
    "    variable_card=2,\n",
    "    values = [[.9, .8, .8, .2],\n",
    "             [.1, .2, .2, .8]],\n",
    "    evidence = ['battery', 'fuel'],\n",
    "    evidence_card=[2, 2]\n",
    ")\n",
    "\n",
    "model.add_cpds(battery_cpd, fuel_cpd, gauge_cpd)"
   ]
  },
  {
   "cell_type": "code",
   "execution_count": 2,
   "metadata": {},
   "outputs": [
    {
     "name": "stderr",
     "output_type": "stream",
     "text": [
      "Finding Elimination Order: : 100%|██████████| 1/1 [00:00<00:00, 427.38it/s]\n",
      "Eliminating: battery: 100%|██████████| 1/1 [00:00<00:00, 119.16it/s]"
     ]
    },
    {
     "name": "stdout",
     "output_type": "stream",
     "text": [
      "0.2571428571428572\n"
     ]
    },
    {
     "name": "stderr",
     "output_type": "stream",
     "text": [
      "\n"
     ]
    }
   ],
   "source": [
    "from pgmpy.inference import VariableElimination\n",
    "\n",
    "model_infer = VariableElimination(model)\n",
    "fuel0_prob_given_gauge0 = model_infer.query(variables=['fuel'], evidence={'gauge': 0})\n",
    "print(fuel0_prob_given_gauge0.values[0]) "
   ]
  },
  {
   "cell_type": "code",
   "execution_count": null,
   "metadata": {},
   "outputs": [],
   "source": []
  }
 ],
 "metadata": {
  "kernelspec": {
   "display_name": "Python 3",
   "language": "python",
   "name": "python3"
  },
  "language_info": {
   "codemirror_mode": {
    "name": "ipython",
    "version": 3
   },
   "file_extension": ".py",
   "mimetype": "text/x-python",
   "name": "python",
   "nbconvert_exporter": "python",
   "pygments_lexer": "ipython3",
   "version": "3.7.4"
  }
 },
 "nbformat": 4,
 "nbformat_minor": 2
}
