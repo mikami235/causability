{
 "cells": [
  {
   "cell_type": "code",
   "execution_count": 1,
   "metadata": {},
   "outputs": [],
   "source": [
    "# 「Pythonによる因果分析」から抜粋\n",
    "import numpy as np\n",
    "import pandas as pd"
   ]
  },
  {
   "cell_type": "code",
   "execution_count": 2,
   "metadata": {},
   "outputs": [
    {
     "data": {
      "text/html": [
       "<div>\n",
       "<style scoped>\n",
       "    .dataframe tbody tr th:only-of-type {\n",
       "        vertical-align: middle;\n",
       "    }\n",
       "\n",
       "    .dataframe tbody tr th {\n",
       "        vertical-align: top;\n",
       "    }\n",
       "\n",
       "    .dataframe thead th {\n",
       "        text-align: right;\n",
       "    }\n",
       "</style>\n",
       "<table border=\"1\" class=\"dataframe\">\n",
       "  <thead>\n",
       "    <tr style=\"text-align: right;\">\n",
       "      <th></th>\n",
       "      <th>x1</th>\n",
       "      <th>x2</th>\n",
       "    </tr>\n",
       "  </thead>\n",
       "  <tbody>\n",
       "    <tr>\n",
       "      <td>0</td>\n",
       "      <td>0</td>\n",
       "      <td>1</td>\n",
       "    </tr>\n",
       "    <tr>\n",
       "      <td>1</td>\n",
       "      <td>0</td>\n",
       "      <td>1</td>\n",
       "    </tr>\n",
       "    <tr>\n",
       "      <td>2</td>\n",
       "      <td>1</td>\n",
       "      <td>0</td>\n",
       "    </tr>\n",
       "    <tr>\n",
       "      <td>3</td>\n",
       "      <td>0</td>\n",
       "      <td>1</td>\n",
       "    </tr>\n",
       "    <tr>\n",
       "      <td>4</td>\n",
       "      <td>1</td>\n",
       "      <td>0</td>\n",
       "    </tr>\n",
       "  </tbody>\n",
       "</table>\n",
       "</div>"
      ],
      "text/plain": [
       "   x1  x2\n",
       "0   0   1\n",
       "1   0   1\n",
       "2   1   0\n",
       "3   0   1\n",
       "4   1   0"
      ]
     },
     "execution_count": 2,
     "metadata": {},
     "output_type": "execute_result"
    }
   ],
   "source": [
    "num_data = 10\n",
    "x1 = np.random.choice([0,1], num_data, p=[0.6,0.4])\n",
    "\n",
    "x2 = np.random.choice([0,1], num_data, p=[0.4,0.6])\n",
    "\n",
    "df = pd.DataFrame({\n",
    "    'x1':x1,\n",
    "    'x2':x2,\n",
    "    })\n",
    "df.head()"
   ]
  },
  {
   "cell_type": "code",
   "execution_count": 3,
   "metadata": {},
   "outputs": [
    {
     "data": {
      "text/html": [
       "<div>\n",
       "<style scoped>\n",
       "    .dataframe tbody tr th:only-of-type {\n",
       "        vertical-align: middle;\n",
       "    }\n",
       "\n",
       "    .dataframe tbody tr th {\n",
       "        vertical-align: top;\n",
       "    }\n",
       "\n",
       "    .dataframe thead th {\n",
       "        text-align: right;\n",
       "    }\n",
       "</style>\n",
       "<table border=\"1\" class=\"dataframe\">\n",
       "  <thead>\n",
       "    <tr style=\"text-align: right;\">\n",
       "      <th></th>\n",
       "      <th>x1</th>\n",
       "      <th>x2</th>\n",
       "      <th>x3</th>\n",
       "    </tr>\n",
       "  </thead>\n",
       "  <tbody>\n",
       "    <tr>\n",
       "      <td>0</td>\n",
       "      <td>0</td>\n",
       "      <td>1</td>\n",
       "      <td>1</td>\n",
       "    </tr>\n",
       "    <tr>\n",
       "      <td>1</td>\n",
       "      <td>0</td>\n",
       "      <td>1</td>\n",
       "      <td>1</td>\n",
       "    </tr>\n",
       "    <tr>\n",
       "      <td>2</td>\n",
       "      <td>1</td>\n",
       "      <td>0</td>\n",
       "      <td>0</td>\n",
       "    </tr>\n",
       "    <tr>\n",
       "      <td>3</td>\n",
       "      <td>0</td>\n",
       "      <td>1</td>\n",
       "      <td>1</td>\n",
       "    </tr>\n",
       "    <tr>\n",
       "      <td>4</td>\n",
       "      <td>1</td>\n",
       "      <td>0</td>\n",
       "      <td>1</td>\n",
       "    </tr>\n",
       "    <tr>\n",
       "      <td>5</td>\n",
       "      <td>0</td>\n",
       "      <td>1</td>\n",
       "      <td>1</td>\n",
       "    </tr>\n",
       "    <tr>\n",
       "      <td>6</td>\n",
       "      <td>0</td>\n",
       "      <td>0</td>\n",
       "      <td>1</td>\n",
       "    </tr>\n",
       "    <tr>\n",
       "      <td>7</td>\n",
       "      <td>1</td>\n",
       "      <td>1</td>\n",
       "      <td>1</td>\n",
       "    </tr>\n",
       "    <tr>\n",
       "      <td>8</td>\n",
       "      <td>1</td>\n",
       "      <td>0</td>\n",
       "      <td>0</td>\n",
       "    </tr>\n",
       "    <tr>\n",
       "      <td>9</td>\n",
       "      <td>1</td>\n",
       "      <td>0</td>\n",
       "      <td>1</td>\n",
       "    </tr>\n",
       "  </tbody>\n",
       "</table>\n",
       "</div>"
      ],
      "text/plain": [
       "   x1  x2  x3\n",
       "0   0   1   1\n",
       "1   0   1   1\n",
       "2   1   0   0\n",
       "3   0   1   1\n",
       "4   1   0   1\n",
       "5   0   1   1\n",
       "6   0   0   1\n",
       "7   1   1   1\n",
       "8   1   0   0\n",
       "9   1   0   1"
      ]
     },
     "execution_count": 3,
     "metadata": {},
     "output_type": "execute_result"
    }
   ],
   "source": [
    "x3 = []\n",
    "for i in range(num_data):\n",
    "    if x1[i] == 0 and x2[i] == 0:\n",
    "        x3_value = np.random.choice([0,1], 1 , p=[0.2, 0.8])\n",
    "        x3.append(x3_value[0])\n",
    "    elif x1[i] == 0 and x2[i] == 1:\n",
    "        x3_value = np.random.choice([0,1], 1 , p=[0.3, 0.7])\n",
    "        x3.append(x3_value[0])\n",
    "    elif x1[i] == 1 and x2[i] == 0:\n",
    "        x3_value = np.random.choice([0,1], 1 , p=[0.4, 0.6])\n",
    "        x3.append(x3_value[0])\n",
    "    elif x1[i] == 1 and x2[i] == 1:\n",
    "        x3_value = np.random.choice([0,1], 1 , p=[0.1, 0.9])\n",
    "        x3.append(x3_value[0])\n",
    "        \n",
    "df[\"x3\"] = x3\n",
    "df"
   ]
  },
  {
   "cell_type": "code",
   "execution_count": 4,
   "metadata": {},
   "outputs": [],
   "source": [
    "from pgmpy.models import BayesianModel\n",
    "model = BayesianModel([('x1','x3'),('x2','x3')])"
   ]
  },
  {
   "cell_type": "code",
   "execution_count": 5,
   "metadata": {},
   "outputs": [
    {
     "name": "stdout",
     "output_type": "stream",
     "text": [
      "\n",
      "    x1\n",
      "0   5\n",
      "1   5\n",
      "\n",
      "    x2\n",
      "0   5\n",
      "1   5\n",
      "\n",
      " x1    0         1     \n",
      "x2    0    1    0    1\n",
      "x3                    \n",
      "0   0.0  0.0  2.0  0.0\n",
      "1   1.0  4.0  2.0  1.0\n"
     ]
    }
   ],
   "source": [
    "from pgmpy.estimators import ParameterEstimator\n",
    "pe = ParameterEstimator(model, df)\n",
    "print(\"\\n\", pe.state_counts('x1'))\n",
    "print(\"\\n\", pe.state_counts('x2'))\n",
    "print(\"\\n\", pe.state_counts('x3'))"
   ]
  },
  {
   "cell_type": "code",
   "execution_count": 6,
   "metadata": {},
   "outputs": [
    {
     "name": "stdout",
     "output_type": "stream",
     "text": [
      "+-------+-----+\n",
      "| x1(0) | 0.5 |\n",
      "+-------+-----+\n",
      "| x1(1) | 0.5 |\n",
      "+-------+-----+\n",
      "+-------+-----+\n",
      "| x2(0) | 0.5 |\n",
      "+-------+-----+\n",
      "| x2(1) | 0.5 |\n",
      "+-------+-----+\n",
      "+-------+-------+-------+-------+-------+\n",
      "| x1    | x1(0) | x1(0) | x1(1) | x1(1) |\n",
      "+-------+-------+-------+-------+-------+\n",
      "| x2    | x2(0) | x2(1) | x2(0) | x2(1) |\n",
      "+-------+-------+-------+-------+-------+\n",
      "| x3(0) | 0.0   | 0.0   | 0.5   | 0.0   |\n",
      "+-------+-------+-------+-------+-------+\n",
      "| x3(1) | 1.0   | 1.0   | 0.5   | 1.0   |\n",
      "+-------+-------+-------+-------+-------+\n"
     ]
    }
   ],
   "source": [
    "from pgmpy.estimators import BayesianEstimator\n",
    "\n",
    "estimator = BayesianEstimator(model, df)\n",
    "\n",
    "cpd_x1 = estimator.estimate_cpd(\n",
    "        'x1', prior_type=\"dirichlet\", pseudo_counts=[[0],[0]])\n",
    "cpd_x2 = estimator.estimate_cpd(\n",
    "        'x2', prior_type=\"dirichlet\", pseudo_counts=[[0],[0]])\n",
    "cpd_x3 = estimator.estimate_cpd(\n",
    "        'x3', prior_type=\"dirichlet\", pseudo_counts=[[0,0,0,0],[0,0,0,0]])\n",
    "\n",
    "print(cpd_x1)\n",
    "print(cpd_x2)\n",
    "print(cpd_x3)"
   ]
  },
  {
   "cell_type": "code",
   "execution_count": 7,
   "metadata": {},
   "outputs": [
    {
     "name": "stdout",
     "output_type": "stream",
     "text": [
      "-23.543287612420833\n"
     ]
    }
   ],
   "source": [
    "from pgmpy.estimators import BicScore\n",
    "bic = BicScore(df)\n",
    "print(bic.score(model))"
   ]
  },
  {
   "cell_type": "code",
   "execution_count": 8,
   "metadata": {},
   "outputs": [
    {
     "name": "stdout",
     "output_type": "stream",
     "text": [
      "-21.05701710851273\n"
     ]
    }
   ],
   "source": [
    "from pgmpy.models import BayesianModel\n",
    "model = BayesianModel([('x2','x1'),('x2','x3')])\n",
    "bic = BicScore(df)\n",
    "print(bic.score(model))"
   ]
  },
  {
   "cell_type": "code",
   "execution_count": null,
   "metadata": {},
   "outputs": [],
   "source": []
  }
 ],
 "metadata": {
  "kernelspec": {
   "display_name": "Python 3",
   "language": "python",
   "name": "python3"
  },
  "language_info": {
   "codemirror_mode": {
    "name": "ipython",
    "version": 3
   },
   "file_extension": ".py",
   "mimetype": "text/x-python",
   "name": "python",
   "nbconvert_exporter": "python",
   "pygments_lexer": "ipython3",
   "version": "3.7.4"
  }
 },
 "nbformat": 4,
 "nbformat_minor": 2
}
